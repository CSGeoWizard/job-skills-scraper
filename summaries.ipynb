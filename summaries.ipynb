{
 "cells": [
  {
   "cell_type": "code",
   "execution_count": 1,
   "metadata": {},
   "outputs": [
    {
     "name": "stdout",
     "output_type": "stream",
     "text": [
      "Summary file not found for Geospatial Engineer\n",
      "Summary file not found for Project Manager\n",
      "Summary file not found for Geospatial Data Manager\n",
      "Summary file not found for Data Manager\n",
      "Summary file not found for Geospatial Analyst\n",
      "Summary file not found for Geospatial Intelligence Analyst\n",
      "Summary file not found for Geospatial Data Engineer\n",
      "Summary file not found for Data Engineer\n",
      "Summary file not found for Geospatial Data Scientist\n",
      "Summary file not found for Data Scientist\n",
      "Combined statistics saved to './combined_job_statistics.csv'\n"
     ]
    }
   ],
   "source": [
    "import os\n",
    "import pandas as pd\n",
    "\n",
    "# List of job titles\n",
    "job_titles = [\n",
    "    'Geospatial Engineer',\n",
    "    'Cartographer',\n",
    "    'Project Manager',\n",
    "    'Geospatial Data Manager',\n",
    "    'Data Manager',\n",
    "    'Geospatial Analyst',\n",
    "    'Geospatial Intelligence Analyst',\n",
    "    'Geospatial Data Engineer',\n",
    "    'Data Engineer',\n",
    "    'Geospatial Data Scientist',\n",
    "    'Data Scientist'\n",
    "]\n",
    "\n",
    "# Directory where the summary CSVs are saved\n",
    "csv_directory = './'  # Update this to the directory where your CSV files are stored\n",
    "\n",
    "# Initialize an empty DataFrame to store the combined statistics\n",
    "combined_df = pd.DataFrame()\n",
    "\n",
    "# Loop through each job title and read its summary CSV\n",
    "for job_title in job_titles:\n",
    "    # Clean the job title for filename use (remove quotes and special characters)\n",
    "    cleaned_job_title = job_title.replace(' ', '_').replace('\"', '').replace(\"'\", \"\")\n",
    "\n",
    "    # Build the filename\n",
    "    summary_file = os.path.join(csv_directory, f\"{cleaned_job_title}_summary.csv\")\n",
    "\n",
    "    # Check if the file exists\n",
    "    if os.path.exists(summary_file):\n",
    "        # Read the CSV file into a DataFrame\n",
    "        df = pd.read_csv(summary_file)\n",
    "\n",
    "        # Add a column for the job title\n",
    "        df['Job Title'] = job_title\n",
    "\n",
    "        # Append the DataFrame to the combined DataFrame\n",
    "        combined_df = pd.concat([combined_df, df], ignore_index=True)\n",
    "    else:\n",
    "        print(f\"Summary file not found for {job_title}\")\n",
    "\n",
    "# Save the combined statistics to a CSV file\n",
    "combined_summary_file = os.path.join(csv_directory, \"combined_job_statistics.csv\")\n",
    "combined_df.to_csv(combined_summary_file, index=False)\n",
    "print(f\"Combined statistics saved to '{combined_summary_file}'\")\n"
   ]
  }
 ],
 "metadata": {
  "kernelspec": {
   "display_name": "Python 3",
   "language": "python",
   "name": "python3"
  },
  "language_info": {
   "codemirror_mode": {
    "name": "ipython",
    "version": 3
   },
   "file_extension": ".py",
   "mimetype": "text/x-python",
   "name": "python",
   "nbconvert_exporter": "python",
   "pygments_lexer": "ipython3",
   "version": "3.12.5"
  }
 },
 "nbformat": 4,
 "nbformat_minor": 2
}
